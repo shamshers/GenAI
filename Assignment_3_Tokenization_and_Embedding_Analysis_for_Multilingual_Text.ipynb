{
  "nbformat": 4,
  "nbformat_minor": 0,
  "metadata": {
    "colab": {
      "provenance": [],
      "authorship_tag": "ABX9TyPGp5iLAXwwxkAJHKk891d3"
    },
    "kernelspec": {
      "name": "python3",
      "display_name": "Python 3"
    },
    "language_info": {
      "name": "python"
    }
  },
  "cells": [
    {
      "cell_type": "code",
      "execution_count": 39,
      "metadata": {
        "id": "Y2A16VZJ12OP"
      },
      "outputs": [],
      "source": []
    },
    {
      "cell_type": "markdown",
      "source": [
        "# **Scenario**\n",
        "Your company is expanding its chatbot to support Spanish and French. You need to compare tokenization strategies (e.g., WordPiece vs. SentencePiece) and embedding spaces for these languages.\n",
        "\n",
        "# **Objectives**\n",
        "Tokenize multilingual text using different tokenizers (e.g., BERT, T5).\n",
        "Analyze vocabulary overlap and subword splitting behavior.\n",
        "Visualize embeddings using PCA to compare semantic similarity across languages.\n",
        "# **Instructions**\n",
        "**Tokenize multilingual sentences:** Use Hugging Face tokenizers (e.g., bert-base-multilingual-cased, t5-small) to tokenize parallel sentences in English, Spanish, and French (e.g., \"Hello world\" vs. \"Hola mundo\").\n",
        "\n",
        "**Compare tokenization outputs:** Print tokenized outputs and note differences in vocabulary size, subword units, and special tokens. Calculate the percentage of shared tokens between languages.\n",
        "\n",
        "**Extract embeddings:** Pass tokenized inputs through the models’ embedding layers. Average token embeddings to get sentence-level representations.\n",
        "\n",
        "**Dimensionality reduction:** Apply PCA to reduce embeddings to 2D and plot them using matplotlib. Color points by language to check for clustering.\n",
        "\n",
        "**Evaluate cross-lingual similarity:** Compute cosine similarity between embeddings of translated sentences (e.g., \"cat\" vs. \"gato\"). Discuss whether semantically similar sentences cluster together.\n",
        "\n",
        "# **Evaluation Criteria**\n",
        "Accurate tokenization and embedding extraction.\n",
        "Meaningful comparison of tokenizer behaviors.\n",
        "Clear visualization and interpretation of embedding spaces."
      ],
      "metadata": {
        "id": "ADMRvZcS13Gk"
      }
    },
    {
      "cell_type": "code",
      "source": [
        "from transformers import AutoTokenizer, AutoModel\n",
        "import torch\n",
        "import matplotlib.pyplot as plt\n",
        "from sklearn.decomposition import PCA\n",
        "from sklearn.metrics.pairwise import cosine_similarity\n",
        "import numpy as np\n",
        "import transformers\n",
        "\n",
        "sentences = {\n",
        "    \"en\": [\"Hello world\", \"The cat sits on the mat\"],\n",
        "    \"es\": [\"Hola mundo\", \"El gato se sienta en la alfombra\"],\n",
        "    \"fr\": [\"Bonjour le monde\", \"Le chat est assis sur le tapis\"]\n",
        "}\n",
        "\n",
        "models = {\n",
        "    \"bert\": {\n",
        "        \"tokenizer\": AutoTokenizer.from_pretrained(\"bert-base-multilingual-cased\"),\n",
        "        \"model\": AutoModel.from_pretrained(\"bert-base-multilingual-cased\")\n",
        "    },\n",
        "    \"t5\": {\n",
        "        \"tokenizer\": AutoTokenizer.from_pretrained(\"t5-small\"),\n",
        "        \"model\": AutoModel.from_pretrained(\"t5-small\")\n",
        "    }\n",
        "}\n",
        "\n",
        "def tokenize_sentences(tokenizer, sentences):\n",
        "    tokenized = {}\n",
        "    for lang, sents in sentences.items():\n",
        "        tokenized[lang] = [tokenizer.tokenize(sent) for sent in sents]\n",
        "    return tokenized\n",
        "\n",
        "# Print tokenizations\n",
        "for name, assets in models.items():\n",
        "    print(f\"\\n--- Tokenizer: {name} ---\")\n",
        "    tok = tokenize_sentences(assets['tokenizer'], sentences)\n",
        "    for lang, toks in tok.items():\n",
        "        print(f\"{lang.upper()} Tokens: {toks}\")\n",
        "\n",
        "\n",
        "\n"
      ],
      "metadata": {
        "colab": {
          "base_uri": "https://localhost:8080/"
        },
        "id": "rhKw3vKy2MAS",
        "outputId": "022cfbe5-089a-47dd-cf45-2b686c8ab49a"
      },
      "execution_count": 40,
      "outputs": [
        {
          "output_type": "stream",
          "name": "stdout",
          "text": [
            "\n",
            "--- Tokenizer: bert ---\n",
            "EN Tokens: [['Hello', 'world'], ['The', 'cat', 'sits', 'on', 'the', 'mat']]\n",
            "ES Tokens: [['Ho', '##la', 'mundo'], ['El', 'ga', '##to', 'se', 'sien', '##ta', 'en', 'la', 'al', '##fo', '##mbra']]\n",
            "FR Tokens: [['Bon', '##jou', '##r', 'le', 'monde'], ['Le', 'chat', 'est', 'ass', '##is', 'sur', 'le', 'tapi', '##s']]\n",
            "\n",
            "--- Tokenizer: t5 ---\n",
            "EN Tokens: [['▁Hello', '▁world'], ['▁The', '▁cat', '▁sit', 's', '▁on', '▁the', '▁mat']]\n",
            "ES Tokens: [['▁Hol', 'a', '▁mun', 'd', 'o'], ['▁El', '▁', 'gat', 'o', '▁se', '▁si', 'ent', 'a', '▁', 'en', '▁la', '▁al', 'f', 'omb', 'r', 'a']]\n",
            "FR Tokens: [['▁Bonjour', '▁le', '▁monde'], ['▁Le', '▁chat', '▁est', '▁', 'assi', 's', '▁sur', '▁le', '▁tap', 'is']]\n"
          ]
        }
      ]
    },
    {
      "cell_type": "code",
      "source": [
        "def extract_unique_tokens(tokenizer, sentences):\n",
        "    tokens = set()\n",
        "    for sent in sentences:\n",
        "        tokens.update(tokenizer.tokenize(sent))\n",
        "    return tokens\n",
        "\n",
        "for name, assets in models.items():\n",
        "    print(f\"\\n--- {name.upper()} Vocab Overlap ---\")\n",
        "    tokenizer = assets['tokenizer']\n",
        "    vocab = {lang: extract_unique_tokens(tokenizer, sents) for lang, sents in sentences.items()}\n",
        "\n",
        "    en_tokens = vocab[\"en\"]\n",
        "    for lang in [\"es\", \"fr\"]:\n",
        "        overlap = en_tokens & vocab[lang]\n",
        "        percent = 100 * len(overlap) / len(vocab[lang])\n",
        "        print(f\"EN-{lang.upper()} shared: {percent:.2f}% ({len(overlap)} tokens)\")\n"
      ],
      "metadata": {
        "colab": {
          "base_uri": "https://localhost:8080/"
        },
        "id": "zJenyOrT8xYp",
        "outputId": "c1821cde-1853-46de-9492-a5c57d16faaf"
      },
      "execution_count": 41,
      "outputs": [
        {
          "output_type": "stream",
          "name": "stdout",
          "text": [
            "\n",
            "--- BERT Vocab Overlap ---\n",
            "EN-ES shared: 0.00% (0 tokens)\n",
            "EN-FR shared: 0.00% (0 tokens)\n",
            "\n",
            "--- T5 Vocab Overlap ---\n",
            "EN-ES shared: 0.00% (0 tokens)\n",
            "EN-FR shared: 8.33% (1 tokens)\n"
          ]
        }
      ]
    },
    {
      "cell_type": "code",
      "source": [
        "def sentence_embedding(model, tokenizer, sentence):\n",
        "    # For T5, we need to provide a dummy decoder input\n",
        "    if isinstance(tokenizer, transformers.models.t5.tokenization_t5_fast.T5TokenizerFast):\n",
        "        inputs = tokenizer(sentence, return_tensors=\"pt\", truncation=True, padding=True)\n",
        "        # Use the same input IDs for the decoder as the encoder\n",
        "        decoder_input_ids = inputs.input_ids\n",
        "        outputs = model(**inputs, decoder_input_ids=decoder_input_ids)\n",
        "    else: # For BERT, we can use the original logic\n",
        "        inputs = tokenizer(sentence, return_tensors=\"pt\", truncation=True)\n",
        "        with torch.no_grad():\n",
        "            outputs = model(**inputs)\n",
        "    embeddings = outputs.last_hidden_state.squeeze(0)\n",
        "    avg_emb = embeddings.mean(dim=0)\n",
        "    return avg_emb\n",
        "\n",
        "def get_all_embeddings(model, tokenizer, sentences):\n",
        "    embeddings = []\n",
        "    labels = []\n",
        "    for lang, sents in sentences.items():\n",
        "        for sent in sents:\n",
        "            emb = sentence_embedding(model, tokenizer, sent)\n",
        "            # Detach the tensor from the computational graph before converting to NumPy\n",
        "            embeddings.append(emb.detach().numpy())\n",
        "            labels.append(lang)\n",
        "    return np.array(embeddings), labels\n"
      ],
      "metadata": {
        "id": "xnfVqB3LAkJD"
      },
      "execution_count": 42,
      "outputs": []
    },
    {
      "cell_type": "code",
      "source": [
        "def visualize_embeddings(embeddings, labels, model_name):\n",
        "    pca = PCA(n_components=2)\n",
        "    reduced = pca.fit_transform(embeddings)\n",
        "    colors = {'en': 'red', 'es': 'green', 'fr': 'blue'}\n",
        "    plt.figure(figsize=(8, 6))\n",
        "    for lang in set(labels):\n",
        "        idxs = [i for i, l in enumerate(labels) if l == lang]\n",
        "        plt.scatter(reduced[idxs, 0], reduced[idxs, 1], label=lang, color=colors[lang])\n",
        "    plt.title(f\"PCA of Sentence Embeddings ({model_name})\")\n",
        "    plt.legend()\n",
        "    plt.show()\n",
        "\n",
        "# Run visualization\n",
        "for name, assets in models.items():\n",
        "    embs, langs = get_all_embeddings(assets[\"model\"], assets[\"tokenizer\"], sentences)\n",
        "    visualize_embeddings(embs, langs, name)\n"
      ],
      "metadata": {
        "colab": {
          "base_uri": "https://localhost:8080/",
          "height": 1000
        },
        "id": "dj-p2KHkAqkZ",
        "outputId": "926e748e-d5e8-42ad-cc05-4a85f2006d7c"
      },
      "execution_count": 43,
      "outputs": [
        {
          "output_type": "display_data",
          "data": {
            "text/plain": [
              "<Figure size 800x600 with 1 Axes>"
            ],
            "image/png": "[encoded data removed]"
          },
          "metadata": {}
        },
        {
          "output_type": "display_data",
          "data": {
            "text/plain": [
              "<Figure size 800x600 with 1 Axes>"
            ],
            "image/png": "[encoded data removed]"
          },
          "metadata": {}
        }
      ]
    },
    {
      "cell_type": "code",
      "source": [
        "test_words = [(\"cat\", \"gato\", \"chat\")]\n",
        "\n",
        "def word_embedding(model, tokenizer, word):\n",
        "    tokens = tokenizer(word, return_tensors=\"pt\")\n",
        "    # For T5, provide decoder_input_ids\n",
        "    if isinstance(tokenizer, transformers.models.t5.tokenization_t5_fast.T5TokenizerFast):\n",
        "        decoder_input_ids = tokens.input_ids  # Use the same input IDs for the decoder\n",
        "        with torch.no_grad():\n",
        "            output = model(**tokens, decoder_input_ids=decoder_input_ids)\n",
        "    else: # For BERT, use original logic\n",
        "        with torch.no_grad():\n",
        "            output = model(**tokens)\n",
        "    return output.last_hidden_state[0].mean(dim=0).numpy()\n",
        "\n",
        "for model_name, assets in models.items():\n",
        "    print(f\"\\n--- Cosine Similarities ({model_name.upper()}) ---\")\n",
        "    for eng, esp, fra in test_words:\n",
        "        e = word_embedding(assets['model'], assets['tokenizer'], eng)\n",
        "        s = word_embedding(assets['model'], assets['tokenizer'], esp)\n",
        "        f = word_embedding(assets['model'], assets['tokenizer'], fra)\n",
        "\n",
        "        print(f\"EN-ES ({eng}-{esp}): {cosine_similarity([e], [s])[0][0]:.4f}\")\n",
        "        print(f\"EN-FR ({eng}-{fra}): {cosine_similarity([e], [f])[0][0]:.4f}\")\n"
      ],
      "metadata": {
        "colab": {
          "base_uri": "https://localhost:8080/"
        },
        "id": "9KQGdydqAyHb",
        "outputId": "882ba86b-14fc-4553-bc90-b663b7049d03"
      },
      "execution_count": 44,
      "outputs": [
        {
          "output_type": "stream",
          "name": "stdout",
          "text": [
            "\n",
            "--- Cosine Similarities (BERT) ---\n",
            "EN-ES (cat-gato): 0.6106\n",
            "EN-FR (cat-chat): 0.6746\n",
            "\n",
            "--- Cosine Similarities (T5) ---\n",
            "EN-ES (cat-gato): 0.9475\n",
            "EN-FR (cat-chat): 0.8834\n"
          ]
        }
      ]
    }
  ]
}